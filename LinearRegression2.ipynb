{
 "cells": [
  {
   "cell_type": "code",
   "execution_count": 17,
   "id": "2db24dfa-ee4d-4c44-932a-4f21b3f17ff5",
   "metadata": {},
   "outputs": [],
   "source": [
    "import numpy as np\n",
    "import pandas as pd"
   ]
  },
  {
   "cell_type": "code",
   "execution_count": 18,
   "id": "9477390d-561e-4b3c-9e5b-7f59a1239b0c",
   "metadata": {},
   "outputs": [],
   "source": [
    "train_data = pd.read_csv('lineardata_train.csv')\n",
    "test_data = pd.read_csv('lineardata_test.csv')"
   ]
  },
  {
   "cell_type": "code",
   "execution_count": 19,
   "id": "b5811cbc-e924-41b9-86ed-a4211b8a5155",
   "metadata": {},
   "outputs": [],
   "source": [
    "X_train = train_data.iloc[:, 1:21].to_numpy()\n",
    "y_train = train_data.iloc[:, 0].to_numpy()"
   ]
  },
  {
   "cell_type": "code",
   "execution_count": 20,
   "id": "a7e49d9e-8762-4be8-94d6-54237c8fdded",
   "metadata": {},
   "outputs": [],
   "source": [
    "def normalize_data(X):\n",
    "    mean = np.mean(X, axis=0)\n",
    "    std = np.std(X, axis=0)\n",
    "    return (X - mean) / std"
   ]
  },
  {
   "cell_type": "code",
   "execution_count": 21,
   "id": "aaefe36e-d91b-43d4-95ad-69baf5880055",
   "metadata": {},
   "outputs": [
    {
     "data": {
      "text/plain": [
       "array([[-9.00469588e-01,  8.50978218e-01, -2.06952632e+00, ...,\n",
       "        -9.68452346e+00,  1.82118994e+01, -1.68484235e+01],\n",
       "       [-2.66567434e-01,  2.86549584e+00, -6.39677992e+00, ...,\n",
       "         6.52914102e+00, -4.57727939e+00,  2.80805295e+01],\n",
       "       [-5.89188588e-02,  6.35366255e-01, -3.56321592e+00, ...,\n",
       "        -6.45143845e+00, -1.70804082e+01, -1.35009528e+01],\n",
       "       ...,\n",
       "       [-3.21084933e-01,  1.60838573e+00, -1.11770995e+01, ...,\n",
       "        -4.29975339e+00,  1.60530318e+01,  1.48127151e+01],\n",
       "       [-2.38343160e+00,  1.21491121e+00,  9.25112877e-01, ...,\n",
       "        -5.08280126e+00,  7.51408869e+00,  3.01504845e+01],\n",
       "       [ 1.39653447e+00,  1.04498367e+00,  6.97468560e+00, ...,\n",
       "        -2.13494556e+00,  9.04293672e+01, -3.64122320e+01]])"
      ]
     },
     "execution_count": 21,
     "metadata": {},
     "output_type": "execute_result"
    }
   ],
   "source": [
    "X_train"
   ]
  },
  {
   "cell_type": "code",
   "execution_count": 22,
   "id": "02d9e993-323e-44ad-b37c-3e1ad37effdd",
   "metadata": {},
   "outputs": [],
   "source": [
    "X_test = test_data.iloc[:, 1:21].to_numpy()\n",
    "y_test = test_data.iloc[:, 0].to_numpy()\n"
   ]
  },
  {
   "cell_type": "code",
   "execution_count": 23,
   "id": "6bef6456-44df-4bc4-a80a-9ea28ae62da9",
   "metadata": {},
   "outputs": [],
   "source": [
    "X_train = normalize_data(X_train)\n",
    "X_test = normalize_data(X_test)"
   ]
  },
  {
   "cell_type": "code",
   "execution_count": 24,
   "id": "8e405bf6-31cb-4280-b9a0-56d644e26545",
   "metadata": {},
   "outputs": [],
   "source": [
    "class GDRegressor:\n",
    "    def __init__(self, learning_rate=0.01, epochs=500):\n",
    "        self.coef_ = None\n",
    "        self.intercept_ = None\n",
    "        self.lr = learning_rate\n",
    "        self.epochs = epochs\n",
    "\n",
    "    def fit(self, X_train, y_train):\n",
    "        self.intercept_ = 0\n",
    "        self.coef_ = np.ones(X_train.shape[1])\n",
    "        \n",
    "        for i in range(self.epochs):\n",
    "            y_hat = np.dot(X_train, self.coef_) + self.intercept_\n",
    "            intercept_der = -2 * np.mean(y_train - y_hat)\n",
    "            self.intercept_ = self.intercept_ - (self.lr * intercept_der)\n",
    "\n",
    "            coef_der = -2 * np.dot((y_train - y_hat), X_train) / X_train.shape[0]\n",
    "            self.coef_ = self.coef_ - (self.lr * coef_der)\n",
    "\n",
    "        print(self.intercept_, self.coef_)\n",
    "\n",
    "    def predict(self, X_test):\n",
    "        return np.dot(X_test, self.coef_) + self.intercept_"
   ]
  },
  {
   "cell_type": "code",
   "execution_count": 25,
   "id": "bc05d91f-16a8-43b6-9368-07f0528ee0d1",
   "metadata": {},
   "outputs": [],
   "source": [
    "gdr = GDRegressor(epochs=1000, learning_rate=0.5)"
   ]
  },
  {
   "cell_type": "code",
   "execution_count": 26,
   "id": "66481026-29dc-4d9e-8358-835f37861d4e",
   "metadata": {},
   "outputs": [
    {
     "name": "stdout",
     "output_type": "stream",
     "text": [
      "60.3637886165795 [2.20195774e+01 3.31497109e+01 9.95541391e+00 6.05377498e+00\n",
      " 1.75468746e+02 3.29905115e+02 2.53980905e+02 9.02616587e+02\n",
      " 4.35808684e+02 8.38967472e+01 1.21226412e+02 1.60618608e+03\n",
      " 1.67667935e+03 1.31341727e+03 5.99392681e+02 1.05495141e+04\n",
      " 5.04448384e+02 6.78421739e+02 3.16485239e+03 2.30428026e+02]\n"
     ]
    }
   ],
   "source": [
    "gdr.fit(X_train, y_train)"
   ]
  },
  {
   "cell_type": "code",
   "execution_count": 27,
   "id": "4e0e7370-7547-43c6-a754-58ef20402e41",
   "metadata": {},
   "outputs": [],
   "source": [
    "y_pred1=gdr.predict(X_train)"
   ]
  },
  {
   "cell_type": "code",
   "execution_count": 28,
   "id": "d8924ede-dd7e-46e3-a1f3-b825f0161273",
   "metadata": {},
   "outputs": [],
   "source": [
    "y_pred2=gdr.predict(X_test)"
   ]
  },
  {
   "cell_type": "code",
   "execution_count": 29,
   "id": "fecbd5ff-9d11-4cda-8b9d-72ac79f2c3d9",
   "metadata": {},
   "outputs": [],
   "source": [
    "from sklearn.metrics import r2_score"
   ]
  },
  {
   "cell_type": "code",
   "execution_count": 30,
   "id": "87798ee4-38bb-4404-bfdd-4d3f0c6cda78",
   "metadata": {},
   "outputs": [
    {
     "data": {
      "text/plain": [
       "0.999999999922914"
      ]
     },
     "execution_count": 30,
     "metadata": {},
     "output_type": "execute_result"
    }
   ],
   "source": [
    "r2_score(y_train,y_pred1)"
   ]
  },
  {
   "cell_type": "code",
   "execution_count": 31,
   "id": "eb16f845-6c0f-48ba-aac9-c9051688da81",
   "metadata": {},
   "outputs": [
    {
     "data": {
      "text/plain": [
       "0.999999999922914"
      ]
     },
     "execution_count": 31,
     "metadata": {},
     "output_type": "execute_result"
    }
   ],
   "source": [
    "def SSM(y_train):\n",
    "    return np.sum((y_train-np.mean(y_train))**2)\n",
    "def SSR(y_train,y_pred):\n",
    "    return np.sum((y_train-y_pred)**2)\n",
    "    \n",
    "SSr=SSR(y_train,y_pred1)\n",
    "SSm=SSM(y_train)\n",
    "r2_score=1-(SSr/SSm)\n",
    "r2_score\n"
   ]
  },
  {
   "cell_type": "code",
   "execution_count": 24,
   "id": "4a309e97-a2cf-45fa-90dd-0260ef1093b8",
   "metadata": {},
   "outputs": [
    {
     "data": {
      "text/plain": [
       "0.4477650763286606"
      ]
     },
     "execution_count": 24,
     "metadata": {},
     "output_type": "execute_result"
    }
   ],
   "source": [
    "def SSM(y_train):\n",
    "    return np.sum((y_train-np.mean(y_train))**2)\n",
    "def SSR(y_train,y_pred):\n",
    "    return np.sum((y_train-y_pred)**2)\n",
    "    \n",
    "SSr=SSR(y_test,y_pred2)\n",
    "SSm=SSM(y_train)\n",
    "r2_score=1-(SSr/SSm)\n",
    "r2_score"
   ]
  },
  {
   "cell_type": "code",
   "execution_count": null,
   "id": "4b6fca02-abb3-45d2-8342-37a1ba9e6ebc",
   "metadata": {},
   "outputs": [],
   "source": []
  },
  {
   "cell_type": "code",
   "execution_count": null,
   "id": "cf1ef368-d49d-4e4f-8faf-2838e4bac9f6",
   "metadata": {},
   "outputs": [],
   "source": []
  }
 ],
 "metadata": {
  "kernelspec": {
   "display_name": "Python 3 (ipykernel)",
   "language": "python",
   "name": "python3"
  },
  "language_info": {
   "codemirror_mode": {
    "name": "ipython",
    "version": 3
   },
   "file_extension": ".py",
   "mimetype": "text/x-python",
   "name": "python",
   "nbconvert_exporter": "python",
   "pygments_lexer": "ipython3",
   "version": "3.11.6"
  }
 },
 "nbformat": 4,
 "nbformat_minor": 5
}
