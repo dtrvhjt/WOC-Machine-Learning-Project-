{
 "cells": [
  {
   "cell_type": "code",
   "execution_count": 1,
   "id": "848b83a8-a23c-47c1-ac3b-ad226b232f79",
   "metadata": {},
   "outputs": [],
   "source": [
    "import numpy as np\n",
    "import pandas as pd"
   ]
  },
  {
   "cell_type": "code",
   "execution_count": 2,
   "id": "871d04c5-6bb4-499c-9e07-6d4e5bd4a3f2",
   "metadata": {},
   "outputs": [],
   "source": [
    "train_data=pd.read_csv('Classification_train.csv')\n",
    "test_data=pd.read_csv('Classification_test.csv')\n",
    "X_train=train_data.drop(\"label\",axis=\"columns\").to_numpy()\n",
    "y_train=train_data.iloc[:,0].to_numpy()\n",
    "X_test=test_data.drop(\"ID\",axis=\"columns\").to_numpy()\n",
    "y_test=test_data.iloc[:,0].to_numpy()"
   ]
  },
  {
   "cell_type": "code",
   "execution_count": 3,
   "id": "a98ed90a-af16-4fde-9d50-d7740697eec5",
   "metadata": {},
   "outputs": [],
   "source": [
    "def normalize_data(X):\n",
    "    mean = np.mean(X, axis=0)\n",
    "    std = np.std(X, axis=0)\n",
    "    \n",
    "    std[std < 1e-8] = 1e-8\n",
    "\n",
    "    normalized_X = (X - mean) / std\n",
    "    return normalized_X\n"
   ]
  },
  {
   "cell_type": "code",
   "execution_count": 4,
   "id": "d80a2527-bc90-4ece-aadf-84900db47f8e",
   "metadata": {},
   "outputs": [],
   "source": [
    "X_train = normalize_data(X_train)\n",
    "X_test = normalize_data(X_test)"
   ]
  },
  {
   "cell_type": "code",
   "execution_count": null,
   "id": "55a0b0db-2dbe-46c1-9722-cf09c3c0a95b",
   "metadata": {},
   "outputs": [],
   "source": [
    "def distance(point1, point2):\n",
    "    return np.sqrt(np.dot(point1 - point2, point1 - point2))"
   ]
  },
  {
   "cell_type": "code",
   "execution_count": null,
   "id": "ad3bb922-8d1e-4916-afc0-aac3ef55fa2e",
   "metadata": {},
   "outputs": [],
   "source": [
    "class KNearestNeighbours:\n",
    "    def __init__(self, n_neighbours=3):\n",
    "        self.n_neighbours = n_neighbours\n",
    "        self.X_train = None\n",
    "        self.y_train = None\n",
    "\n",
    "    def fit(self, X_train, y_train):\n",
    "        self.X_train = X_train\n",
    "        self.y_train = y_train\n",
    "\n",
    "    def predict(self, X_test):\n",
    "        predictions = []\n",
    "        for row1 in X_test:\n",
    "            distances = [distance(row1, row2) for row2 in (self.X_train)]\n",
    "            indices = np.argsort(distances)[:self.n_neighbours]\n",
    "            k_nearest_labels = [self.y_train[i] for i in indices]\n",
    "            most_common_label = np.argmax(np.bincount(k_nearest_labels))\n",
    "            predictions.append(most_common_label)\n",
    "        return predictions"
   ]
  },
  {
   "cell_type": "code",
   "execution_count": 16,
   "id": "258009be-fae3-4913-a036-0351e5dcbec1",
   "metadata": {},
   "outputs": [],
   "source": [
    "knn = KNearestNeighbours()"
   ]
  },
  {
   "cell_type": "code",
   "execution_count": 17,
   "id": "9cde53e9-7770-4820-b910-425e1f59f87e",
   "metadata": {},
   "outputs": [],
   "source": [
    "knn.fit(X_train, y_train)"
   ]
  },
  {
   "cell_type": "code",
   "execution_count": 9,
   "id": "a63b4cfc-f7e7-45d6-85ff-aedb2f6d2d86",
   "metadata": {},
   "outputs": [
    {
     "data": {
      "text/plain": [
       "array([0, 8, 1, ..., 9, 3, 9], dtype=int64)"
      ]
     },
     "execution_count": 9,
     "metadata": {},
     "output_type": "execute_result"
    }
   ],
   "source": [
    "y_pred_train=knn.predict(X_train)\n",
    "y_pred_train"
   ]
  },
  {
   "cell_type": "code",
   "execution_count": 8,
   "id": "7324f12f-a1fb-4309-b444-ecad58ef0d57",
   "metadata": {},
   "outputs": [
    {
     "data": {
      "text/plain": [
       "array([0, 4, 5, ..., 0, 8, 2], dtype=int64)"
      ]
     },
     "execution_count": 8,
     "metadata": {},
     "output_type": "execute_result"
    }
   ],
   "source": [
    "y_pred_test=knn.predict(X_test)\n",
    "y_pred_test"
   ]
  },
  {
   "cell_type": "code",
   "execution_count": 14,
   "id": "a94efa0f-565c-40d1-bd75-87752c92252a",
   "metadata": {},
   "outputs": [
    {
     "data": {
      "text/plain": [
       "-2.95038416008618"
      ]
     },
     "execution_count": 14,
     "metadata": {},
     "output_type": "execute_result"
    }
   ],
   "source": [
    "def SSM(y_train):\n",
    "    return np.sum((y_train-np.mean(y_train))**2)\n",
    "def SSR(y_train,y_pred):\n",
    "    return np.sum((y_train-y_pred)**2)\n",
    "    \n",
    "SSr=SSR(y_test,y_pred_test)\n",
    "SSm=SSM(y_test)\n",
    "r2_score=1-(SSr/SSm)\n",
    "r2_score"
   ]
  },
  {
   "cell_type": "code",
   "execution_count": 15,
   "id": "7a174416-5cad-4a8f-ad0e-e7ab916d1c06",
   "metadata": {},
   "outputs": [
    {
     "data": {
      "text/plain": [
       "0.9786339696077585"
      ]
     },
     "execution_count": 15,
     "metadata": {},
     "output_type": "execute_result"
    }
   ],
   "source": [
    "def SSM(y_train):\n",
    "    return np.sum((y_train-np.mean(y_train))**2)\n",
    "def SSR(y_train,y_pred):\n",
    "    return np.sum((y_train-y_pred)**2)\n",
    "    \n",
    "SSr=SSR(y_train,y_pred_train)\n",
    "SSm=SSM(y_train)\n",
    "r2_score=1-(SSr/SSm)\n",
    "r2_score"
   ]
  },
  {
   "cell_type": "code",
   "execution_count": null,
   "id": "efce844b-5a10-47bc-8b57-dc7bd5627325",
   "metadata": {},
   "outputs": [],
   "source": []
  }
 ],
 "metadata": {
  "kernelspec": {
   "display_name": "Python 3 (ipykernel)",
   "language": "python",
   "name": "python3"
  },
  "language_info": {
   "codemirror_mode": {
    "name": "ipython",
    "version": 3
   },
   "file_extension": ".py",
   "mimetype": "text/x-python",
   "name": "python",
   "nbconvert_exporter": "python",
   "pygments_lexer": "ipython3",
   "version": "3.11.6"
  }
 },
 "nbformat": 4,
 "nbformat_minor": 5
}
