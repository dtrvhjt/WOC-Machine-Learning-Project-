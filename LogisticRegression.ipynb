{
 "cells": [
  {
   "cell_type": "code",
   "execution_count": 1,
   "id": "ff44a0ac-701c-452d-acc9-7211d184d37d",
   "metadata": {},
   "outputs": [],
   "source": [
    "import numpy as np\n",
    "import pandas as pd\n",
    "from tqdm import tqdm"
   ]
  },
  {
   "cell_type": "code",
   "execution_count": 2,
   "id": "eb7dda64-3cbc-48ad-92c4-11122150fa31",
   "metadata": {},
   "outputs": [],
   "source": [
    "train_data=pd.read_csv('Classification_train.csv')\n",
    "test_data=pd.read_csv('Classification_test.csv')\n",
    "X_train=train_data.drop(\"label\",axis=\"columns\").to_numpy()\n",
    "y_train=train_data.iloc[:,0].to_numpy()\n",
    "X_test=test_data.drop(\"ID\",axis=\"columns\").to_numpy()\n",
    "y_test=test_data.iloc[:,0].to_numpy()"
   ]
  },
  {
   "cell_type": "code",
   "execution_count": 3,
   "id": "8622125a-522d-4cec-9da4-c3f34910a222",
   "metadata": {},
   "outputs": [],
   "source": [
    "def sigmoid(z):\n",
    "    return 1/(1+np.exp(-z))"
   ]
  },
  {
   "cell_type": "code",
   "execution_count": 4,
   "id": "e230a596-9001-4c06-a735-ccbff55896c5",
   "metadata": {},
   "outputs": [],
   "source": [
    "def LogisticRegression(X_train,y_train,learning_rate=0.01,epochs=1000):\n",
    "    X_train=np.insert(X_train,0,1,axis=1)\n",
    "    weights=np.random.rand(X_train.shape[1],len(np.unique(y_train)))\n",
    "    for i in tqdm(range(epochs)):\n",
    "        y_pred=sigmoid(np.dot(X_train,weights))\n",
    "        weights += (learning_rate / X_train.shape[0]) * np.dot(X_train.T,(np.eye(len(np.unique(y_train)))[y_train] - y_pred))\n",
    "    return weights\n",
    "\n",
    "def predict(X_test, weights):\n",
    "    X_test = np.insert(X_test, 0, 1, axis=1)\n",
    "    y_pred = sigmoid(np.dot(X_test, weights))\n",
    "    return y_pred\n"
   ]
  },
  {
   "cell_type": "code",
   "execution_count": 5,
   "id": "9daeac6e-96a4-40ca-a297-fc80d8886296",
   "metadata": {},
   "outputs": [
    {
     "name": "stderr",
     "output_type": "stream",
     "text": [
      "  0%|          | 1/1000 [00:02<33:40,  2.02s/it]C:\\Users\\Dell\\AppData\\Local\\Temp\\ipykernel_11808\\1844366379.py:2: RuntimeWarning: overflow encountered in exp\n",
      "  return 1/(1+np.exp(-z))\n",
      "100%|██████████| 1000/1000 [28:33<00:00,  1.71s/it]\n"
     ]
    }
   ],
   "source": [
    "weights=LogisticRegression(X_train,y_train)"
   ]
  },
  {
   "cell_type": "code",
   "execution_count": 6,
   "id": "35a6d96b-0a5d-4236-849a-55d1c9291278",
   "metadata": {},
   "outputs": [
    {
     "name": "stderr",
     "output_type": "stream",
     "text": [
      "C:\\Users\\Dell\\AppData\\Local\\Temp\\ipykernel_11808\\1844366379.py:2: RuntimeWarning: overflow encountered in exp\n",
      "  return 1/(1+np.exp(-z))\n"
     ]
    }
   ],
   "source": [
    "prediction=predict(X_train,weights)\n",
    "prediction2=predict(X_test,weights)"
   ]
  },
  {
   "cell_type": "code",
   "execution_count": 15,
   "id": "afd3c4bf-abf1-4d1a-a79a-14168ad8f0c3",
   "metadata": {},
   "outputs": [
    {
     "name": "stdout",
     "output_type": "stream",
     "text": [
      "[0 4 5 ... 0 8 1]\n",
      "[15795   860  5390 ...   634 10057 13345]\n"
     ]
    }
   ],
   "source": [
    "y_pred1=np.argmax(prediction2,axis=1)\n",
    "print(y_pred1)\n",
    "print(y_test)"
   ]
  },
  {
   "cell_type": "code",
   "execution_count": 17,
   "id": "a1360aa8-9b31-4653-9b08-7aba792fb930",
   "metadata": {},
   "outputs": [
    {
     "name": "stdout",
     "output_type": "stream",
     "text": [
      "[0 8 1 ... 9 3 5]\n",
      "[0 8 1 ... 9 3 9]\n"
     ]
    }
   ],
   "source": [
    "y_pred = np.argmax(prediction, axis=1)\n",
    "print(y_pred)\n",
    "print(y_train)"
   ]
  },
  {
   "cell_type": "code",
   "execution_count": 10,
   "id": "53cb4ad4-f3a8-455d-8bf0-5b6ecb094e1c",
   "metadata": {},
   "outputs": [
    {
     "data": {
      "text/plain": [
       "0.9527796880732657"
      ]
     },
     "execution_count": 10,
     "metadata": {},
     "output_type": "execute_result"
    }
   ],
   "source": [
    "def SSM(y_train):\n",
    "    return np.sum((y_train-np.mean(y_train))**2)\n",
    "def SSR(y_train,y_pred):\n",
    "    return np.sum((y_train-y_pred)**2)\n",
    "    \n",
    "SSr=SSR(y_train,y_pred)\n",
    "SSm=SSM(y_train)\n",
    "r2_score=1-(SSr/SSm)\n",
    "r2_score"
   ]
  },
  {
   "cell_type": "code",
   "execution_count": 13,
   "id": "cb8930a8-dffd-47ce-8cce-3b3b94247bd1",
   "metadata": {},
   "outputs": [
    {
     "data": {
      "text/plain": [
       "-2.950409292084464"
      ]
     },
     "execution_count": 13,
     "metadata": {},
     "output_type": "execute_result"
    }
   ],
   "source": [
    "def SSM(y_train):\n",
    "    return np.sum((y_train-np.mean(y_train))**2)\n",
    "def SSR(y_train,y_pred):\n",
    "    return np.sum((y_train-y_pred)**2)\n",
    "    \n",
    "SSr=SSR(y_test,y_pred1)\n",
    "SSm=SSM(y_test)\n",
    "r2_score=1-(SSr/SSm)\n",
    "r2_score"
   ]
  },
  {
   "cell_type": "code",
   "execution_count": null,
   "id": "c062ff5e-6b4f-4286-b73d-64ec41d6c921",
   "metadata": {},
   "outputs": [],
   "source": []
  }
 ],
 "metadata": {
  "kernelspec": {
   "display_name": "Python 3 (ipykernel)",
   "language": "python",
   "name": "python3"
  },
  "language_info": {
   "codemirror_mode": {
    "name": "ipython",
    "version": 3
   },
   "file_extension": ".py",
   "mimetype": "text/x-python",
   "name": "python",
   "nbconvert_exporter": "python",
   "pygments_lexer": "ipython3",
   "version": "3.11.6"
  }
 },
 "nbformat": 4,
 "nbformat_minor": 5
}
