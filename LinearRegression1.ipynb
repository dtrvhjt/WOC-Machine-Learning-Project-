{
 "cells": [
  {
   "cell_type": "code",
   "execution_count": 17,
   "id": "ca63b6dc-e0f0-485c-9ed0-f88ff96581f2",
   "metadata": {},
   "outputs": [],
   "source": [
    "import numpy as np\n",
    "import pandas as pd"
   ]
  },
  {
   "cell_type": "code",
   "execution_count": 2,
   "id": "5d9e90d1-755b-4d67-8f8d-51be76c69566",
   "metadata": {},
   "outputs": [],
   "source": [
    "train_data=pd.read_csv('lineardata_train.csv')\n",
    "test_data=pd.read_csv('lineardata_test.csv')\n",
    "X_train=train_data.iloc[0:50000,1:21].to_numpy()\n",
    "y_train=train_data.iloc[0:50000,0:1].to_numpy()\n",
    "X_test=test_data.iloc[0:50000,1:21].to_numpy()\n",
    "y_test=test_data.iloc[0:50000,0:1].to_numpy()\n"
   ]
  },
  {
   "cell_type": "code",
   "execution_count": 3,
   "id": "530f66b2-807a-4a8a-a341-8557c25895e6",
   "metadata": {},
   "outputs": [],
   "source": [
    "def normalize_data(X):\n",
    "    mean = np.mean(X, axis=0)\n",
    "    std = np.std(X, axis=0)\n",
    "    return (X - mean) / std"
   ]
  },
  {
   "cell_type": "code",
   "execution_count": 4,
   "id": "4607c75b-b93e-4424-a4f2-0bd6f7b63d3a",
   "metadata": {},
   "outputs": [],
   "source": [
    "X_train = normalize_data(X_train)\n",
    "X_test = normalize_data(X_test)"
   ]
  },
  {
   "cell_type": "code",
   "execution_count": 5,
   "id": "45488356-256a-402f-9077-84b3a6e08c05",
   "metadata": {},
   "outputs": [
    {
     "name": "stdout",
     "output_type": "stream",
     "text": [
      "(50000, 20)\n",
      "(50000, 1)\n",
      "(10000, 20)\n",
      "(10000, 1)\n"
     ]
    }
   ],
   "source": [
    "print(X_train.shape)\n",
    "print(y_train.shape)\n",
    "print(X_test.shape)\n",
    "print(y_test.shape)"
   ]
  },
  {
   "cell_type": "code",
   "execution_count": 6,
   "id": "c464e17f-a2f0-4834-8f44-e45fce2ce5f4",
   "metadata": {},
   "outputs": [],
   "source": [
    "\n",
    "class LinearRegression:\n",
    "    def __init__(self):\n",
    "        self.coef_=None\n",
    "        self.intercept_=None\n",
    "\n",
    "    def fit(self,X_train,y_train):\n",
    "        X_train=np.insert(X_train,0,1,axis=1)\n",
    "        betas=np.linalg.inv(np.dot(X_train.T,X_train)).dot(X_train.T).dot(y_train)\n",
    "        self.intercept_=betas[0]\n",
    "        self.coef_=betas[1:]\n",
    "\n",
    "    def predict(self,X_test):\n",
    "        y_pred=np.dot(X_test,self.coef_)+self.intercept_\n",
    "        return y_pred"
   ]
  },
  {
   "cell_type": "code",
   "execution_count": 7,
   "id": "b75f8b7c-a396-4047-b1b3-cba5220f398e",
   "metadata": {},
   "outputs": [],
   "source": [
    "lr=LinearRegression()"
   ]
  },
  {
   "cell_type": "code",
   "execution_count": 8,
   "id": "b4ac6589-6a6a-4aec-bbba-b5ffccff0e00",
   "metadata": {},
   "outputs": [],
   "source": [
    "lr.fit(X_train,y_train)"
   ]
  },
  {
   "cell_type": "code",
   "execution_count": 9,
   "id": "ba466514-8465-4830-af9d-7f4beae0d6e2",
   "metadata": {},
   "outputs": [
    {
     "data": {
      "text/plain": [
       "array([60.36378862])"
      ]
     },
     "execution_count": 9,
     "metadata": {},
     "output_type": "execute_result"
    }
   ],
   "source": [
    "lr.intercept_"
   ]
  },
  {
   "cell_type": "code",
   "execution_count": 10,
   "id": "a2181a1e-011c-4caf-a3a0-1ab3ecd9492f",
   "metadata": {},
   "outputs": [],
   "source": [
    "y_pred_X_train=lr.predict(X_train)"
   ]
  },
  {
   "cell_type": "code",
   "execution_count": 11,
   "id": "ac5575e5-a94a-4bb1-93f5-2d715353c7ee",
   "metadata": {},
   "outputs": [],
   "source": [
    "y_pred_X_test=lr.predict(X_test)"
   ]
  },
  {
   "cell_type": "code",
   "execution_count": 12,
   "id": "5c9e7eeb-ae82-4af8-a011-1c54d7345554",
   "metadata": {},
   "outputs": [],
   "source": [
    "from sklearn.metrics import r2_score"
   ]
  },
  {
   "cell_type": "code",
   "execution_count": 13,
   "id": "3be09319-8ca2-4eb8-8265-9450bc5b2f1f",
   "metadata": {},
   "outputs": [
    {
     "name": "stdout",
     "output_type": "stream",
     "text": [
      "0.999999999922914\n"
     ]
    }
   ],
   "source": [
    "print(r2_score(y_train,y_pred_X_train))"
   ]
  },
  {
   "cell_type": "code",
   "execution_count": 14,
   "id": "4b42a42e-16e9-4989-954d-682dfbf49c1e",
   "metadata": {
    "scrolled": true
   },
   "outputs": [
    {
     "data": {
      "text/plain": [
       "0.999999999922914"
      ]
     },
     "execution_count": 14,
     "metadata": {},
     "output_type": "execute_result"
    }
   ],
   "source": [
    "def SSM(y_train):\n",
    "    return np.sum((y_train-np.mean(y_train))**2)\n",
    "def SSR(y_train,y_pred):\n",
    "    return np.sum((y_train-y_pred)**2)\n",
    "    \n",
    "SSr=SSR(y_train,y_pred_X_train)\n",
    "SSm=SSM(y_train)\n",
    "r2_score=1-(SSr/SSm)\n",
    "r2_score"
   ]
  },
  {
   "cell_type": "code",
   "execution_count": 15,
   "id": "ac02a3f6-9321-4f1c-b755-921267ae56dd",
   "metadata": {
    "scrolled": true
   },
   "outputs": [
    {
     "data": {
      "text/plain": [
       "0.44776507632866225"
      ]
     },
     "execution_count": 15,
     "metadata": {},
     "output_type": "execute_result"
    }
   ],
   "source": [
    "def SSM(y_train):\n",
    "    return np.sum((y_train-np.mean(y_train))**2)\n",
    "def SSR(y_train,y_pred):\n",
    "    return np.sum((y_train-y_pred)**2)\n",
    "    \n",
    "SSr=SSR(y_test,y_pred_X_test)\n",
    "SSm=SSM(y_train)\n",
    "r2_score=1-(SSr/SSm)\n",
    "r2_score"
   ]
  },
  {
   "cell_type": "code",
   "execution_count": null,
   "id": "a8c90c14-ddaa-4274-a27e-8b3d74b5711c",
   "metadata": {},
   "outputs": [],
   "source": []
  }
 ],
 "metadata": {
  "kernelspec": {
   "display_name": "Python 3 (ipykernel)",
   "language": "python",
   "name": "python3"
  },
  "language_info": {
   "codemirror_mode": {
    "name": "ipython",
    "version": 3
   },
   "file_extension": ".py",
   "mimetype": "text/x-python",
   "name": "python",
   "nbconvert_exporter": "python",
   "pygments_lexer": "ipython3",
   "version": "3.11.6"
  }
 },
 "nbformat": 4,
 "nbformat_minor": 5
}
