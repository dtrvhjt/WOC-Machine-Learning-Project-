{
 "cells": [
  {
   "cell_type": "code",
   "execution_count": 11,
   "id": "5714a087-4d97-402d-a661-9a4b3b82478f",
   "metadata": {},
   "outputs": [],
   "source": [
    "import numpy as np\n",
    "import pandas as pd\n",
    "from tqdm import tqdm\n",
    "\n",
    "train_data=pd.read_csv('Polynomialdata_train.csv')\n",
    "test_data=pd.read_csv('Polynomialdata_test.csv')\n",
    "Xtrain=train_data.iloc[0:50000,1:4]\n",
    "ytrain=train_data.iloc[0:50000,0:1]\n",
    "Xtest=test_data.iloc[0:10000,1:4]\n",
    "ytest=test_data.iloc[0:10000,0:1]\n",
    "X_train=Xtrain.to_numpy()\n",
    "y_train=ytrain.to_numpy()\n",
    "X_test=Xtest.to_numpy()\n",
    "y_test=ytest.to_numpy()\n",
    "\n",
    "def normalize_data(X):\n",
    "    mean = np.mean(X, axis=0)\n",
    "    std = np.std(X, axis=0)\n",
    "    return (X - mean) / std\n",
    "\n",
    "X_train = normalize_data(X_train)\n",
    "X_test = normalize_data(X_test)\n",
    "\n",
    "# Specify the degree of the polynomial\n",
    "degree = 3  # Set the desired degree to 3\n",
    "\n",
    "# Initialize X_poly with the original features\n",
    "X_poly = X_train.copy()\n",
    "\n",
    "# Loop to generate polynomial features up to the specified degree\n",
    "for d in range(2, degree + 1):\n",
    "    # Include terms up to the third degree\n",
    "    X_poly = np.concatenate((X_poly, X_train**d), axis=1)\n",
    "\n",
    "# Include specific cross-product terms\n",
    "num_features = X_train.shape[1]\n",
    "\n",
    "# terms of the form x1*x2, x1*x3, x2*x3\n",
    "for i in range(num_features):\n",
    "    for j in range(i + 1, num_features):\n",
    "        cross_product = X_train[:, i] * X_train[:, j]\n",
    "        X_poly = np.concatenate((X_poly, cross_product.reshape(-1, 1)), axis=1)\n",
    "\n",
    "\n",
    "# terms of the form x1*x2_sq, x1*x3_sq, x2*x3_sq\n",
    "\n",
    "for i in range(num_features):\n",
    "    for j in range(num_features):\n",
    "        if i != j:\n",
    "            cross_product = X_train[:, i] * X_train[:, j]**2\n",
    "            X_poly = np.concatenate((X_poly, cross_product.reshape(-1, 1)), axis=1)\n",
    "\n",
    "x1_x2_x3 = X_train[:, 0] * X_train[:, 1] * X_train[:, 2]\n",
    "X_poly = np.concatenate((X_poly, x1_x2_x3.reshape(-1, 1)), axis=1)\n",
    "\n",
    "# Add a constant term for the bias\n",
    "X_poly_train = np.concatenate((np.ones((X_train.shape[0], 1)), X_poly), axis=1)"
   ]
  },
  {
   "cell_type": "code",
   "execution_count": 2,
   "id": "b77db792-b0bb-4efb-a0c8-94a14356a80c",
   "metadata": {},
   "outputs": [],
   "source": [
    "# Specify the degree of the polynomial\n",
    "degree = 3  # Set the desired degree to 3\n",
    "\n",
    "# X_poly with the original features\n",
    "X_poly_test = X_test.copy()\n",
    "\n",
    "#terms of the form x1_sq,x2_sq,x3_sq\n",
    "for d in range(2, degree + 1):\n",
    "    # Include terms up to the third degree\n",
    "    X_poly_test = np.concatenate((X_poly_test, X_test**d), axis=1)\n",
    "\n",
    "num_features = X_test.shape[1]\n",
    "\n",
    "# terms of the form x1*x2, x1*x3, x2*x3\n",
    "for i in range(num_features):\n",
    "    for j in range(i + 1, num_features):\n",
    "        cross_product = X_test[:, i] * X_test[:, j]\n",
    "        X_poly_test = np.concatenate((X_poly_test, cross_product.reshape(-1, 1)), axis=1)\n",
    "\n",
    "\n",
    "# terms of the form x1*x2_sq, x1*x3_sq, x2*x3_sq,etc....\n",
    "for i in range(num_features):\n",
    "    for j in range(num_features):\n",
    "        if i != j:\n",
    "            cross_product = X_test[:, i] * X_test[:, j]**2\n",
    "            X_poly_test = np.concatenate((X_poly_test, cross_product.reshape(-1, 1)), axis=1)\n",
    "            \n",
    "# term of the form x1*x2*x3\n",
    "x1_x2_x3 = X_test[:, 0] * X_test[:, 1] * X_test[:, 2]\n",
    "X_poly_test = np.concatenate((X_poly_test, x1_x2_x3.reshape(-1, 1)), axis=1)\n",
    "\n",
    "# Add a constant term for the bias\n",
    "X_poly_test = np.concatenate((np.ones((X_test.shape[0], 1)), X_poly_test), axis=1)\n"
   ]
  },
  {
   "cell_type": "code",
   "execution_count": 3,
   "id": "2c43b8ed-cfef-427f-8c4f-20edd02f15c5",
   "metadata": {},
   "outputs": [
    {
     "data": {
      "text/plain": [
       "array([[ 1.64475599, -0.57890681,  0.77364179],\n",
       "       [ 0.27017619,  1.3553876 , -1.72519578],\n",
       "       [-1.68687549,  1.70351081, -0.26027888],\n",
       "       ...,\n",
       "       [ 2.13615098, -0.48130225,  0.68811825],\n",
       "       [-0.07917619, -0.16429977,  1.02502758],\n",
       "       [ 0.9068352 ,  0.57365547, -0.29594564]])"
      ]
     },
     "execution_count": 3,
     "metadata": {},
     "output_type": "execute_result"
    }
   ],
   "source": [
    "X_test"
   ]
  },
  {
   "cell_type": "code",
   "execution_count": 4,
   "id": "cb2d7234-3bb3-456b-a6cc-6621814d133e",
   "metadata": {},
   "outputs": [
    {
     "data": {
      "text/plain": [
       "array([[ 1.        ,  1.64475599, -0.57890681, ...,  2.09287298,\n",
       "         0.25927296, -0.7366311 ],\n",
       "       [ 1.        ,  0.27017619,  1.3553876 , ..., -0.12593096,\n",
       "        -3.16931497, -0.6317554 ],\n",
       "       [ 1.        , -1.68687549,  1.70351081, ..., -0.74063628,\n",
       "        -0.75531605,  0.74794015],\n",
       "       ...,\n",
       "       [ 1.        ,  2.13615098, -0.48130225, ...,  3.13998059,\n",
       "         0.15940387, -0.70747795],\n",
       "       [ 1.        , -0.07917619, -0.16429977, ...,  0.00642576,\n",
       "         0.02767002,  0.0133342 ],\n",
       "       [ 1.        ,  0.9068352 ,  0.57365547, ..., -0.24337092,\n",
       "        -0.09738997, -0.15395417]])"
      ]
     },
     "execution_count": 4,
     "metadata": {},
     "output_type": "execute_result"
    }
   ],
   "source": [
    "X_poly_test"
   ]
  },
  {
   "cell_type": "code",
   "execution_count": 5,
   "id": "50b3ca34-3c64-4e15-8d6a-7a57dcd39e20",
   "metadata": {},
   "outputs": [
    {
     "data": {
      "text/plain": [
       "array([[ 1.        ,  0.23449913,  1.82041534, ...,  0.09411544,\n",
       "         5.6717802 ,  0.73061762],\n",
       "       [ 1.        , -0.23836156,  1.05175271, ..., -0.00604934,\n",
       "        -0.1177776 ,  0.02669226],\n",
       "       [ 1.        , -0.19769502, -1.89636525, ..., -0.0273981 ,\n",
       "        -2.52100092, -0.26281293],\n",
       "       ...,\n",
       "       [ 1.        ,  1.3624297 ,  0.35255978, ...,  2.51133432,\n",
       "         0.16816742,  0.64986507],\n",
       "       [ 1.        ,  0.48957399,  0.30081577, ...,  0.14815314,\n",
       "         0.05593394,  0.0910318 ],\n",
       "       [ 1.        ,  0.55268949, -0.2028049 , ...,  0.32947842,\n",
       "         0.04436306, -0.12089942]])"
      ]
     },
     "execution_count": 5,
     "metadata": {},
     "output_type": "execute_result"
    }
   ],
   "source": [
    "(X_poly_train)"
   ]
  },
  {
   "cell_type": "raw",
   "id": "96430ae4-0300-4877-b8db-3a99cfcc4e43",
   "metadata": {},
   "source": [
    "def normalise_data(X, epsilon=1e-8):\n",
    "    mean = np.mean(X, axis=0)\n",
    "    std = np.std(X, axis=0)\n",
    "    # Add a small constant to avoid division by zero\n",
    "    std[std < epsilon] = epsilon\n",
    "    return (X - mean) / std"
   ]
  },
  {
   "cell_type": "raw",
   "id": "fb171c55-b7a1-4c07-818e-46ccfad6f23c",
   "metadata": {},
   "source": [
    "X_train_poly=normalise_data(X_poly_train)"
   ]
  },
  {
   "cell_type": "code",
   "execution_count": 6,
   "id": "fe11e412-2ac8-4b1b-937b-4e31597058e9",
   "metadata": {},
   "outputs": [
    {
     "name": "stderr",
     "output_type": "stream",
     "text": [
      "100%|██████████| 1000/1000 [1:57:38<00:00,  7.06s/it] "
     ]
    },
    {
     "name": "stdout",
     "output_type": "stream",
     "text": [
      "[[985213.80215316]] [[ 1.23387954e-319  3.62765714e+005 -2.69040380e+005  4.34647641e+005\n",
      "   6.20380681e+005  7.10956485e+005  9.99757635e+005 -1.56759310e+005\n",
      "   5.25347643e+005  6.76677855e+005  1.94043450e+004  9.98535599e+005\n",
      "   4.15126349e+005 -2.06159932e+005 -6.90357712e+005  1.68967831e+005\n",
      "   6.36030255e+004 -8.23626203e+005  6.46229574e+005  2.53280268e+005]]\n"
     ]
    },
    {
     "name": "stderr",
     "output_type": "stream",
     "text": [
      "\n"
     ]
    }
   ],
   "source": [
    "from tqdm import tqdm\n",
    "\n",
    "def normalise_data(X, epsilon=1e-8):\n",
    "    mean = np.mean(X, axis=0)\n",
    "    std = np.std(X, axis=0)\n",
    "    # Add a small constant to avoid division by zero\n",
    "    std[std < epsilon] = epsilon\n",
    "    return (X - mean) / std\n",
    "\n",
    "X_train_poly = normalise_data(X_poly_train)\n",
    "X_test_poly=normalise_data(X_poly_test)\n",
    "\n",
    "class SGDRegressor:\n",
    "    def __init__(self, learning_rate=0.01, epochs=100, epsilon=np.finfo(np.float64).eps, alpha=0.01):\n",
    "        self.coef_ = None\n",
    "        self.intercept_ = None\n",
    "        self.lr = learning_rate\n",
    "        self.epochs = epochs\n",
    "        self.epsilon = epsilon\n",
    "        self.alpha = alpha\n",
    "\n",
    "    def fit(self, X_train, y_train):\n",
    "        self.intercept_ = 0\n",
    "        self.coef_ = np.ones(X_train.shape[1])\n",
    "\n",
    "        for epoch in tqdm(range(self.epochs)):\n",
    "            for i in range(X_train.shape[0]):\n",
    "                X_i = X_train[i, :].reshape(1, -1)\n",
    "                y_i = y_train[i]\n",
    "                \n",
    "                y_hat = np.dot(X_i, self.coef_.T) + self.intercept_\n",
    "\n",
    "                intercept_der = -2 * (y_i - y_hat)\n",
    "                self.intercept_ = self.intercept_ - (self.lr * intercept_der)\n",
    "\n",
    "                coef_der = -2 * (y_i - y_hat) * X_i + 2 * self.alpha * self.coef_\n",
    "                self.coef_ = self.coef_ - (self.lr * coef_der)\n",
    "\n",
    "                # Clip coefficients to avoid overflow\n",
    "                self.coef_ = np.clip(self.coef_, -1e6, 1e6)\n",
    "                self.intercept_ = np.clip(self.intercept_, -1e6, 1e6)\n",
    "\n",
    "                # Check for overflow during training\n",
    "                if np.isnan(self.coef_).any() or np.isinf(self.coef_).any() or np.isnan(self.intercept_).any() or np.isinf(self.intercept_).any():\n",
    "                    print(\"Numerical instability detected. Reduce learning rate or check data.\")\n",
    "                    return\n",
    "\n",
    "        print(self.intercept_, self.coef_)\n",
    "\n",
    "    def predict(self, X_test):\n",
    "        return np.dot(X_test, self.coef_.T) + self.intercept_\n",
    "\n",
    "gdr = SGDRegressor(epochs=1000, learning_rate=0.001, alpha=0.01)\n",
    "\n",
    "gdr.fit(X_train_poly, y_train)\n"
   ]
  },
  {
   "cell_type": "code",
   "execution_count": 7,
   "id": "62731c2b-9b83-4556-b81b-509eae4d5b40",
   "metadata": {},
   "outputs": [
    {
     "data": {
      "text/plain": [
       "array([[8898517.77400466],\n",
       "       [-358650.375928  ],\n",
       "       [ 446452.88476472],\n",
       "       ...,\n",
       "       [2966342.39324616],\n",
       "       [ 447013.59472462],\n",
       "       [1302189.44914569]])"
      ]
     },
     "execution_count": 7,
     "metadata": {},
     "output_type": "execute_result"
    }
   ],
   "source": [
    "y_pred1=gdr.predict(X_train_poly)\n",
    "y_pred1"
   ]
  },
  {
   "cell_type": "code",
   "execution_count": 8,
   "id": "a372135a-89a5-4c75-869a-72acb49ba057",
   "metadata": {},
   "outputs": [
    {
     "data": {
      "text/plain": [
       "array([[ 1391779.77763071],\n",
       "       [-2153441.26956147],\n",
       "       [ 3413731.83416406],\n",
       "       ...,\n",
       "       [ 1602659.220677  ],\n",
       "       [  616136.8314009 ],\n",
       "       [ -353865.19223412]])"
      ]
     },
     "execution_count": 8,
     "metadata": {},
     "output_type": "execute_result"
    }
   ],
   "source": [
    "y_pred2=gdr.predict(X_test_poly)\n",
    "y_pred2"
   ]
  },
  {
   "cell_type": "code",
   "execution_count": 9,
   "id": "07d73b6f-e03f-47aa-8311-4d0edbcb9b0b",
   "metadata": {},
   "outputs": [
    {
     "data": {
      "text/plain": [
       "0.11373968691984537"
      ]
     },
     "execution_count": 9,
     "metadata": {},
     "output_type": "execute_result"
    }
   ],
   "source": [
    "def SSM(y_train):\n",
    "    return np.sum((y_train-np.mean(y_train))**2)\n",
    "def SSR(y_train,y_pred):\n",
    "    return np.sum((y_train-y_pred)**2)\n",
    "    \n",
    "SSr=SSR(y_train,y_pred1)\n",
    "SSm=SSM(y_train)\n",
    "r2_score=1-(SSr/SSm)\n",
    "r2_score\n"
   ]
  },
  {
   "cell_type": "code",
   "execution_count": 10,
   "id": "11ac4dba-47ba-40ed-be50-c3b67a7101b0",
   "metadata": {},
   "outputs": [
    {
     "data": {
      "text/plain": [
       "0.9904172063767346"
      ]
     },
     "execution_count": 10,
     "metadata": {},
     "output_type": "execute_result"
    }
   ],
   "source": [
    "def SSM(y_train):\n",
    "    return np.sum((y_train-np.mean(y_train))**2)\n",
    "def SSR(y_train,y_pred):\n",
    "    return np.sum((y_train-y_pred)**2)\n",
    "    \n",
    "SSr=SSR(y_test,y_pred2)\n",
    "SSm=SSM(y_train)\n",
    "r2_score=1-(SSr/SSm)\n",
    "r2_score"
   ]
  },
  {
   "cell_type": "code",
   "execution_count": null,
   "id": "2d98522e-1696-456a-94cb-ac529f75d212",
   "metadata": {},
   "outputs": [],
   "source": []
  },
  {
   "cell_type": "code",
   "execution_count": null,
   "id": "3b4d1372-0b06-4d5c-a865-e916afdf100f",
   "metadata": {},
   "outputs": [],
   "source": []
  }
 ],
 "metadata": {
  "kernelspec": {
   "display_name": "Python 3 (ipykernel)",
   "language": "python",
   "name": "python3"
  },
  "language_info": {
   "codemirror_mode": {
    "name": "ipython",
    "version": 3
   },
   "file_extension": ".py",
   "mimetype": "text/x-python",
   "name": "python",
   "nbconvert_exporter": "python",
   "pygments_lexer": "ipython3",
   "version": "3.11.6"
  }
 },
 "nbformat": 4,
 "nbformat_minor": 5
}
