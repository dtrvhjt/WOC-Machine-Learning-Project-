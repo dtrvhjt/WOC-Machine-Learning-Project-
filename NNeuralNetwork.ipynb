{
 "cells": [
  {
   "cell_type": "code",
   "execution_count": 1,
   "id": "046f62a7-fa99-495d-ab56-cf6672761337",
   "metadata": {},
   "outputs": [],
   "source": [
    "import numpy as np\n",
    "import pandas as pd\n",
    "from tqdm import tqdm"
   ]
  },
  {
   "cell_type": "code",
   "execution_count": 2,
   "id": "f5af3f30-c0c2-415f-8303-a263ae99c9cc",
   "metadata": {},
   "outputs": [],
   "source": [
    "def one_hot_encode(labels, num_classes):\n",
    "    num_samples = len(labels)\n",
    "    one_hot_labels = np.zeros((num_samples, num_classes))\n",
    "    one_hot_labels[np.arange(num_samples), labels] = 1\n",
    "    return one_hot_labels"
   ]
  },
  {
   "cell_type": "code",
   "execution_count": 3,
   "id": "8ed9d0e2-0b17-4bf3-aba7-fc124c0fed00",
   "metadata": {},
   "outputs": [],
   "source": [
    "train_data=pd.read_csv('Classification_train.csv')\n",
    "test_data=pd.read_csv('Classification_test.csv')\n",
    "train_labels=train_data['label'].values \n",
    "num_classes = np.max(train_labels) + 1\n",
    "X_train = train_data.drop('label', axis=1).values\n",
    "X_test = test_data.drop('ID', axis=1).values\n",
    "train_labels = one_hot_encode(train_labels, num_classes)"
   ]
  },
  {
   "cell_type": "code",
   "execution_count": 4,
   "id": "5568eeab-0b7a-4a54-902c-1ee76e1a1b4d",
   "metadata": {},
   "outputs": [],
   "source": [
    "y_train = train_data.values\n",
    "y_train=y_train[:, 1:]\n",
    "X_train = X_train.astype('float32') / 255.0\n",
    "y_train = y_train.astype('float32') / 255.0\n",
    "y_test=test_data.values\n",
    "y_test=y_test[:, 1:]\n",
    "X_test = X_test.astype('float32') / 255.0\n",
    "y_test = y_test.astype('float32') / 255.0"
   ]
  },
  {
   "cell_type": "code",
   "execution_count": 5,
   "id": "29136570-06a0-4954-aa85-a6a3da978612",
   "metadata": {},
   "outputs": [],
   "source": [
    "np.random.seed(42)"
   ]
  },
  {
   "cell_type": "code",
   "execution_count": 6,
   "id": "c53f8590-7254-4a55-95c5-532a4c548952",
   "metadata": {},
   "outputs": [],
   "source": [
    "input_size = 28*28\n",
    "hidden_size = 512  \n",
    "output_size = 10"
   ]
  },
  {
   "cell_type": "code",
   "execution_count": 7,
   "id": "d4e4e2c9-06d9-4f4f-ab2e-20be97384f19",
   "metadata": {},
   "outputs": [],
   "source": [
    "class NeuralNetwork:\n",
    "    def __init__(self, input_size, hidden_size, output_size):\n",
    "        self.weights1 = np.random.randn(input_size, hidden_size) * 0.01\n",
    "        self.bias1 = np.zeros((1, hidden_size))\n",
    "        self.weights2 = np.random.randn(hidden_size, output_size) * 0.01\n",
    "        self.bias2 = np.zeros((1, output_size))\n",
    "\n",
    "    def forward(self, X):\n",
    "        self.z1 = np.dot(X, self.weights1) + self.bias1\n",
    "        self.a1 = self.relu(self.z1)\n",
    "        self.z2 = np.dot(self.a1, self.weights2) + self.bias2\n",
    "        self.a2 = self.softmax(self.z2)\n",
    "        return self.a2\n",
    "\n",
    "    def backward(self, X, y, learning_rate=0.01):\n",
    "        m = X.shape[0]\n",
    "\n",
    "        dz2 = self.a2 - y\n",
    "        dw2 = np.dot(self.a1.T, dz2) / m\n",
    "        db2 = np.sum(dz2, axis=0, keepdims=True) / m\n",
    "\n",
    "        # Hidden layer\n",
    "        dz1 = np.dot(dz2, self.weights2.T) * self.relu_derivative(self.a1)\n",
    "        dw1 = np.dot(X.T, dz1) / m\n",
    "        db1 = np.sum(dz1, axis=0, keepdims=True) / m\n",
    "\n",
    "        # Update weights and biases\n",
    "        self.weights2 -= learning_rate * dw2\n",
    "        self.bias2 -= learning_rate * db2\n",
    "        self.weights1 -= learning_rate * dw1\n",
    "        self.bias1 -= learning_rate * db1\n",
    "\n",
    "    def relu(self, x):\n",
    "        return np.maximum(0, x)\n",
    "\n",
    "    def relu_derivative(self, x):\n",
    "        return np.where(x > 0, 1, 0)\n",
    "\n",
    "    def softmax(self, x):\n",
    "        exp_x = np.exp(x - np.max(x, axis=1, keepdims=True))\n",
    "        return exp_x / np.sum(exp_x, axis=1, keepdims=True)\n",
    "\n",
    "    def train(self, X, y, epochs, learning_rate=0.01, batch_size=64):\n",
    "        for epoch in tqdm(range(epochs)):\n",
    "            permutation = np.random.permutation(X.shape[0])\n",
    "            X_shuffled = X[permutation]\n",
    "            y_shuffled = y[permutation]\n",
    "\n",
    "            for i in range(0, X.shape[0], batch_size):\n",
    "                X_batch = X_shuffled[i:i+batch_size]\n",
    "                y_batch = y_shuffled[i:i+batch_size]\n",
    "\n",
    "                predictions = self.forward(X_batch)\n",
    "\n",
    "                loss = -np.sum(y_batch * np.log(predictions)) / X_batch.shape[0]\n",
    "\n",
    "                self.backward(X_batch, y_batch, learning_rate)\n",
    "\n",
    "            print(f\"Epoch {epoch + 1}/{epochs}, Loss: {loss}\")"
   ]
  },
  {
   "cell_type": "code",
   "execution_count": 8,
   "id": "0fb3478d-2653-4d47-b74e-d8afb9fc52eb",
   "metadata": {},
   "outputs": [
    {
     "name": "stderr",
     "output_type": "stream",
     "text": [
      "  5%|▌         | 1/20 [00:02<00:44,  2.33s/it]"
     ]
    },
    {
     "name": "stdout",
     "output_type": "stream",
     "text": [
      "Epoch 1/20, Loss: 2.2062830155669344\n"
     ]
    },
    {
     "name": "stderr",
     "output_type": "stream",
     "text": [
      " 10%|█         | 2/20 [00:07<01:07,  3.74s/it]"
     ]
    },
    {
     "name": "stdout",
     "output_type": "stream",
     "text": [
      "Epoch 2/20, Loss: 1.8930300588006397\n"
     ]
    },
    {
     "name": "stderr",
     "output_type": "stream",
     "text": [
      " 15%|█▌        | 3/20 [00:12<01:18,  4.62s/it]"
     ]
    },
    {
     "name": "stdout",
     "output_type": "stream",
     "text": [
      "Epoch 3/20, Loss: 1.2209565495082229\n"
     ]
    },
    {
     "name": "stderr",
     "output_type": "stream",
     "text": [
      " 20%|██        | 4/20 [00:19<01:27,  5.49s/it]"
     ]
    },
    {
     "name": "stdout",
     "output_type": "stream",
     "text": [
      "Epoch 4/20, Loss: 0.7968099233852882\n"
     ]
    },
    {
     "name": "stderr",
     "output_type": "stream",
     "text": [
      " 25%|██▌       | 5/20 [00:25<01:24,  5.61s/it]"
     ]
    },
    {
     "name": "stdout",
     "output_type": "stream",
     "text": [
      "Epoch 5/20, Loss: 0.5194162718280991\n"
     ]
    },
    {
     "name": "stderr",
     "output_type": "stream",
     "text": [
      " 30%|███       | 6/20 [00:31<01:19,  5.71s/it]"
     ]
    },
    {
     "name": "stdout",
     "output_type": "stream",
     "text": [
      "Epoch 6/20, Loss: 0.4615185031819329\n"
     ]
    },
    {
     "name": "stderr",
     "output_type": "stream",
     "text": [
      " 35%|███▌      | 7/20 [00:37<01:16,  5.89s/it]"
     ]
    },
    {
     "name": "stdout",
     "output_type": "stream",
     "text": [
      "Epoch 7/20, Loss: 0.2727890844156506\n"
     ]
    },
    {
     "name": "stderr",
     "output_type": "stream",
     "text": [
      " 40%|████      | 8/20 [00:43<01:12,  6.01s/it]"
     ]
    },
    {
     "name": "stdout",
     "output_type": "stream",
     "text": [
      "Epoch 8/20, Loss: 0.4542900096831896\n"
     ]
    },
    {
     "name": "stderr",
     "output_type": "stream",
     "text": [
      " 45%|████▌     | 9/20 [00:50<01:07,  6.16s/it]"
     ]
    },
    {
     "name": "stdout",
     "output_type": "stream",
     "text": [
      "Epoch 9/20, Loss: 0.3794984562707191\n"
     ]
    },
    {
     "name": "stderr",
     "output_type": "stream",
     "text": [
      " 50%|█████     | 10/20 [00:56<01:03,  6.32s/it]"
     ]
    },
    {
     "name": "stdout",
     "output_type": "stream",
     "text": [
      "Epoch 10/20, Loss: 0.22615191000095938\n"
     ]
    },
    {
     "name": "stderr",
     "output_type": "stream",
     "text": [
      " 55%|█████▌    | 11/20 [01:03<00:57,  6.40s/it]"
     ]
    },
    {
     "name": "stdout",
     "output_type": "stream",
     "text": [
      "Epoch 11/20, Loss: 0.2073718670593004\n"
     ]
    },
    {
     "name": "stderr",
     "output_type": "stream",
     "text": [
      " 60%|██████    | 12/20 [01:09<00:48,  6.12s/it]"
     ]
    },
    {
     "name": "stdout",
     "output_type": "stream",
     "text": [
      "Epoch 12/20, Loss: 0.28821856713049265\n"
     ]
    },
    {
     "name": "stderr",
     "output_type": "stream",
     "text": [
      " 65%|██████▌   | 13/20 [01:13<00:40,  5.76s/it]"
     ]
    },
    {
     "name": "stdout",
     "output_type": "stream",
     "text": [
      "Epoch 13/20, Loss: 0.31741660705002156\n"
     ]
    },
    {
     "name": "stderr",
     "output_type": "stream",
     "text": [
      " 70%|███████   | 14/20 [01:19<00:34,  5.71s/it]"
     ]
    },
    {
     "name": "stdout",
     "output_type": "stream",
     "text": [
      "Epoch 14/20, Loss: 0.1587957687582425\n"
     ]
    },
    {
     "name": "stderr",
     "output_type": "stream",
     "text": [
      " 75%|███████▌  | 15/20 [01:25<00:29,  5.90s/it]"
     ]
    },
    {
     "name": "stdout",
     "output_type": "stream",
     "text": [
      "Epoch 15/20, Loss: 0.30204670384532933\n"
     ]
    },
    {
     "name": "stderr",
     "output_type": "stream",
     "text": [
      " 80%|████████  | 16/20 [01:32<00:24,  6.03s/it]"
     ]
    },
    {
     "name": "stdout",
     "output_type": "stream",
     "text": [
      "Epoch 16/20, Loss: 0.1277557503452361\n"
     ]
    },
    {
     "name": "stderr",
     "output_type": "stream",
     "text": [
      " 85%|████████▌ | 17/20 [01:38<00:17,  5.96s/it]"
     ]
    },
    {
     "name": "stdout",
     "output_type": "stream",
     "text": [
      "Epoch 17/20, Loss: 0.10895151297512222\n"
     ]
    },
    {
     "name": "stderr",
     "output_type": "stream",
     "text": [
      " 90%|█████████ | 18/20 [01:44<00:12,  6.11s/it]"
     ]
    },
    {
     "name": "stdout",
     "output_type": "stream",
     "text": [
      "Epoch 18/20, Loss: 0.35371557525593356\n"
     ]
    },
    {
     "name": "stderr",
     "output_type": "stream",
     "text": [
      " 95%|█████████▌| 19/20 [01:50<00:06,  6.10s/it]"
     ]
    },
    {
     "name": "stdout",
     "output_type": "stream",
     "text": [
      "Epoch 19/20, Loss: 0.080090751331112\n"
     ]
    },
    {
     "name": "stderr",
     "output_type": "stream",
     "text": [
      "100%|██████████| 20/20 [01:56<00:00,  5.82s/it]"
     ]
    },
    {
     "name": "stdout",
     "output_type": "stream",
     "text": [
      "Epoch 20/20, Loss: 0.3651223237070755\n"
     ]
    },
    {
     "name": "stderr",
     "output_type": "stream",
     "text": [
      "\n"
     ]
    }
   ],
   "source": [
    "nn = NeuralNetwork(input_size, hidden_size, output_size)\n",
    "nn.train(X_train, train_labels, epochs=20, learning_rate=0.01, batch_size=128)\n"
   ]
  },
  {
   "cell_type": "code",
   "execution_count": 9,
   "id": "74025655-b8f9-40fa-b0a4-22087248ea7e",
   "metadata": {},
   "outputs": [
    {
     "name": "stdout",
     "output_type": "stream",
     "text": [
      "Test accuracy: 0.9531\n"
     ]
    }
   ],
   "source": [
    "train_labels = (train_data['label'].values)\n",
    "num_classes = np.max(train_labels) + 1\n",
    "train_labels = one_hot_encode(train_labels, num_classes)\n",
    "y_pred = nn.forward(y_train)\n",
    "test_accuracy = np.mean(np.argmax(y_pred, axis=1) == np.argmax(train_labels, axis=1))\n",
    "print(f'Test accuracy: {test_accuracy}')"
   ]
  },
  {
   "cell_type": "code",
   "execution_count": 10,
   "id": "5b5bb440-fac9-4e09-9d59-8b386e90cb0f",
   "metadata": {},
   "outputs": [
    {
     "data": {
      "text/plain": [
       "array([[8.44867534e-01, 6.91078923e-02, 5.75889759e-03, ...,\n",
       "        7.27720883e-03, 9.23134426e-03, 1.28987911e-02],\n",
       "       [2.85939283e-03, 7.17240442e-04, 8.62213498e-04, ...,\n",
       "        6.84474772e-07, 9.93250411e-01, 1.54660613e-05],\n",
       "       [4.88257590e-03, 9.95002848e-01, 8.49401591e-07, ...,\n",
       "        2.61188427e-07, 7.05173080e-05, 2.26558203e-05],\n",
       "       ...,\n",
       "       [1.72390326e-03, 2.95264363e-04, 6.71731252e-05, ...,\n",
       "        9.05975116e-05, 6.26925911e-04, 9.90084976e-01],\n",
       "       [4.51356320e-06, 3.33140693e-05, 4.70984662e-05, ...,\n",
       "        4.58794176e-03, 7.80904095e-07, 4.18338912e-06],\n",
       "       [5.32222932e-04, 1.36594395e-03, 3.09055437e-02, ...,\n",
       "        7.84161250e-03, 2.46289583e-02, 5.64269980e-01]])"
      ]
     },
     "execution_count": 10,
     "metadata": {},
     "output_type": "execute_result"
    }
   ],
   "source": [
    "y_pred"
   ]
  },
  {
   "cell_type": "code",
   "execution_count": 11,
   "id": "3756f964-1314-419c-acd8-6be79c8ce9ad",
   "metadata": {},
   "outputs": [
    {
     "data": {
      "text/plain": [
       "array([0, 8, 1, ..., 9, 3, 9], dtype=int64)"
      ]
     },
     "execution_count": 11,
     "metadata": {},
     "output_type": "execute_result"
    }
   ],
   "source": [
    "y_pred=np.argmax(y_pred,axis=1)"
   ]
  },
  {
   "cell_type": "code",
   "execution_count": 29,
   "id": "b4d8b737-3de1-4438-a0fc-3dded0bfd468",
   "metadata": {},
   "outputs": [
    {
     "data": {
      "text/plain": [
       "array([0, 8, 1, ..., 9, 3, 9], dtype=int64)"
      ]
     },
     "execution_count": 29,
     "metadata": {},
     "output_type": "execute_result"
    }
   ],
   "source": [
    "y_train=train_data.iloc[:,0].to_numpy()\n",
    "y_train"
   ]
  },
  {
   "cell_type": "code",
   "execution_count": 26,
   "id": "03287bf8-e0e5-4a5f-9338-c27f4fc48c61",
   "metadata": {},
   "outputs": [
    {
     "name": "stdout",
     "output_type": "stream",
     "text": [
      "[0 8 1 ... 9 3 5]\n",
      "[0 8 1 ... 9 3 9]\n"
     ]
    }
   ],
   "source": [
    "print(y_pred)\n",
    "print(y_train)"
   ]
  },
  {
   "cell_type": "code",
   "execution_count": 27,
   "id": "6bc602ff-0598-4966-b363-17f716cb5466",
   "metadata": {},
   "outputs": [
    {
     "data": {
      "text/plain": [
       "0.9351158539499049"
      ]
     },
     "execution_count": 27,
     "metadata": {},
     "output_type": "execute_result"
    }
   ],
   "source": [
    "def SSM(y_train):\n",
    "    return np.sum((y_train-np.mean(y_train))**2)\n",
    "def SSR(y_train,y_pred):\n",
    "    return np.sum((y_train-y_pred)**2)\n",
    "    \n",
    "SSr=SSR(y_train,y_pred)\n",
    "SSm=SSM(y_train)\n",
    "r2_score=1-(SSr/SSm)\n",
    "r2_score"
   ]
  },
  {
   "cell_type": "code",
   "execution_count": 14,
   "id": "7c718060-1299-4c82-b986-c5b40140a5a1",
   "metadata": {},
   "outputs": [],
   "source": [
    "test_labels = (test_data['ID'].values)\n",
    "num_classes = np.max(test_labels) + 1\n",
    "test_labels = one_hot_encode(test_labels, num_classes)\n",
    "y_pred = nn.forward(y_test)"
   ]
  },
  {
   "cell_type": "code",
   "execution_count": 15,
   "id": "970a16d3-d6b5-4a5b-90a6-d23e172d73c5",
   "metadata": {},
   "outputs": [
    {
     "data": {
      "text/plain": [
       "array([[9.92310441e-01, 9.92676258e-04, 6.10070289e-04, ...,\n",
       "        1.85627684e-04, 5.77501292e-03, 6.56276841e-05],\n",
       "       [3.78508816e-06, 5.53091535e-08, 4.99668720e-06, ...,\n",
       "        5.36706164e-05, 4.74344274e-04, 5.01213774e-04],\n",
       "       [3.77522700e-05, 2.16803984e-04, 4.12618133e-02, ...,\n",
       "        1.09375092e-06, 3.02245389e-02, 2.26685260e-03],\n",
       "       ...,\n",
       "       [9.52112538e-01, 9.86649311e-03, 9.63736341e-04, ...,\n",
       "        4.47203125e-04, 2.66346009e-02, 9.60900849e-03],\n",
       "       [2.60946620e-02, 9.63299863e-04, 8.28781927e-04, ...,\n",
       "        1.90639721e-05, 9.67992769e-01, 9.97911473e-04],\n",
       "       [8.65414008e-04, 2.08255669e-02, 3.68892605e-01, ...,\n",
       "        4.43186364e-04, 1.11603670e-03, 9.20176814e-04]])"
      ]
     },
     "execution_count": 15,
     "metadata": {},
     "output_type": "execute_result"
    }
   ],
   "source": [
    "y_pred"
   ]
  },
  {
   "cell_type": "code",
   "execution_count": 17,
   "id": "ce42e7a2-0f9b-4686-9484-a7c474c769e7",
   "metadata": {},
   "outputs": [
    {
     "data": {
      "text/plain": [
       "array([0, 4, 5, ..., 0, 8, 5], dtype=int64)"
      ]
     },
     "execution_count": 17,
     "metadata": {},
     "output_type": "execute_result"
    }
   ],
   "source": [
    "np.argmax(y_pred,axis=1)"
   ]
  },
  {
   "cell_type": "code",
   "execution_count": 30,
   "id": "efa2803e-70a4-48dc-99fe-39324c92798d",
   "metadata": {},
   "outputs": [
    {
     "data": {
      "text/plain": [
       "array([15795,   860,  5390, ...,   634, 10057, 13345], dtype=int64)"
      ]
     },
     "execution_count": 30,
     "metadata": {},
     "output_type": "execute_result"
    }
   ],
   "source": [
    "y_test=test_data.iloc[:,0].to_numpy()\n",
    "y_test"
   ]
  },
  {
   "cell_type": "code",
   "execution_count": 28,
   "id": "fa84eb8f-12bf-47dc-be2e-a2b393c40fed",
   "metadata": {},
   "outputs": [
    {
     "data": {
      "text/plain": [
       "-2.95044057292713"
      ]
     },
     "execution_count": 28,
     "metadata": {},
     "output_type": "execute_result"
    }
   ],
   "source": [
    "def SSM(y_train):\n",
    "    return np.sum((y_train-np.mean(y_train))**2)\n",
    "def SSR(y_train,y_pred):\n",
    "    return np.sum((y_train-y_pred)**2)\n",
    "    \n",
    "SSr=SSR(y_test,y_pred1)\n",
    "SSm=SSM(y_test)\n",
    "r2_score=1-(SSr/SSm)\n",
    "r2_score"
   ]
  }
 ],
 "metadata": {
  "kernelspec": {
   "display_name": "Python 3 (ipykernel)",
   "language": "python",
   "name": "python3"
  },
  "language_info": {
   "codemirror_mode": {
    "name": "ipython",
    "version": 3
   },
   "file_extension": ".py",
   "mimetype": "text/x-python",
   "name": "python",
   "nbconvert_exporter": "python",
   "pygments_lexer": "ipython3",
   "version": "3.11.6"
  }
 },
 "nbformat": 4,
 "nbformat_minor": 5
}
