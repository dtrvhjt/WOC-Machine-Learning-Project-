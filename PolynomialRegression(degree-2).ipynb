{
 "cells": [
  {
   "cell_type": "code",
   "execution_count": 1,
   "id": "b4bb882b-f4fb-4824-934e-0e3cb4eff8f2",
   "metadata": {},
   "outputs": [
    {
     "name": "stdout",
     "output_type": "stream",
     "text": [
      "X_poly:\n",
      " (50000, 13)\n"
     ]
    }
   ],
   "source": [
    "import numpy as np\n",
    "import pandas as pd\n",
    "from tqdm import tqdm\n",
    "\n",
    "train_data=pd.read_csv('Polynomialdata_train.csv')\n",
    "test_data=pd.read_csv('Polynomialdata_test.csv')\n",
    "Xtrain=train_data.iloc[0:50000,1:4]\n",
    "ytrain=train_data.iloc[0:50000,0:1]\n",
    "Xtest=test_data.iloc[0:10000,1:4]\n",
    "ytest=test_data.iloc[0:10000,0:1]\n",
    "X_train=Xtrain.to_numpy()\n",
    "y_train=ytrain.to_numpy()\n",
    "X_test=Xtest.to_numpy()\n",
    "y_test=ytest.to_numpy()\n",
    "\n",
    "def normalize_data(X):\n",
    "    mean = np.mean(X, axis=0)\n",
    "    std = np.std(X, axis=0)\n",
    "    return (X - mean) / std\n",
    "X_train = normalize_data(X_train)\n",
    "X_test = normalize_data(X_test)\n",
    "\n",
    "degree = 3\n",
    "\n",
    "X_poly = X_train.copy()\n",
    "\n",
    "for d in range(2, degree + 1):\n",
    "    X_poly = np.concatenate((X_poly, X_train**d), axis=1)\n",
    "\n",
    "num_features = X_train.shape[1]\n",
    "for i in range(num_features):\n",
    "    for j in range(i + 1, num_features):\n",
    "        cross_product = X_train[:, i] * X_train[:, j]\n",
    "        X_poly = np.concatenate((X_poly, cross_product.reshape(-1, 1)), axis=1)\n",
    "\n",
    "X_poly = np.concatenate((np.ones((X_train.shape[0], 1)), X_poly), axis=1)\n",
    "\n",
    "print(\"X_poly:\\n\", X_poly.shape)\n"
   ]
  },
  {
   "cell_type": "code",
   "execution_count": 2,
   "id": "8f7809a6-3edf-4830-bad4-0ffbf687c889",
   "metadata": {},
   "outputs": [],
   "source": [
    "X_poly_test=X_test.copy()\n",
    "for d in range(2, degree + 1):\n",
    "    X_poly_test = np.concatenate((X_poly_test, X_test**d), axis=1)\n",
    "num_features = X_test.shape[1]\n",
    "for i in range(num_features):\n",
    "    for j in range(i + 1, num_features):\n",
    "        cross_product = X_test[:, i] * X_test[:, j]\n",
    "        X_poly_test = np.concatenate((X_poly_test, cross_product.reshape(-1, 1)), axis=1)\n",
    "X_poly_test = np.concatenate((np.ones((X_test.shape[0], 1)), X_poly_test), axis=1)\n"
   ]
  },
  {
   "cell_type": "code",
   "execution_count": 3,
   "id": "b204b448-e8c0-471f-931c-5672bc6f9e75",
   "metadata": {},
   "outputs": [],
   "source": [
    "X_train_poly=X_poly\n",
    "X_test_poly=X_poly_test"
   ]
  },
  {
   "cell_type": "code",
   "execution_count": 4,
   "id": "58b98164-9f0b-4831-a712-524ea7a34eba",
   "metadata": {},
   "outputs": [
    {
     "name": "stderr",
     "output_type": "stream",
     "text": [
      "100%|██████████| 1000/1000 [1:27:08<00:00,  5.23s/it]"
     ]
    },
    {
     "name": "stdout",
     "output_type": "stream",
     "text": [
      "[[198894.53045189]] [[ 1.93624462e+05  3.77855718e+05 -7.03998399e+05 -4.49471604e+05\n",
      "   6.00586451e+05  7.57752716e+05  9.73197804e+05 -2.79164769e+05\n",
      "  -5.29434313e+05 -8.59498096e+05 -3.18305208e+05  9.84440148e+05\n",
      "   8.98630569e+02]]\n"
     ]
    },
    {
     "name": "stderr",
     "output_type": "stream",
     "text": [
      "\n"
     ]
    }
   ],
   "source": [
    "class SGDRegressor:\n",
    "    def __init__(self, learning_rate=0.01, epochs=100, epsilon=np.finfo(np.float64).eps, alpha=0.01):\n",
    "        self.coef_ = None\n",
    "        self.intercept_ = None\n",
    "        self.lr = learning_rate\n",
    "        self.epochs = epochs\n",
    "        self.epsilon = epsilon\n",
    "        self.alpha = alpha\n",
    "\n",
    "    def fit(self, X_train, y_train):\n",
    "        self.intercept_ = 0\n",
    "        self.coef_ = np.ones(X_train.shape[1])\n",
    "\n",
    "        for epoch in tqdm(range(self.epochs)):\n",
    "            for i in range(X_train.shape[0]):\n",
    "                X_i = X_train[i, :].reshape(1, -1)\n",
    "                y_i = y_train[i]\n",
    "                \n",
    "                y_hat = np.dot(X_i, self.coef_.T) + self.intercept_\n",
    "\n",
    "                intercept_der = -2 * (y_i - y_hat)\n",
    "                self.intercept_ = self.intercept_ - (self.lr * intercept_der)\n",
    "\n",
    "                coef_der = -2 * (y_i - y_hat) * X_i + 2 * self.alpha * self.coef_\n",
    "                self.coef_ = self.coef_ - (self.lr * coef_der)\n",
    "\n",
    "                # Clip coefficients to avoid overflow\n",
    "                self.coef_ = np.clip(self.coef_, -1e6, 1e6)\n",
    "                self.intercept_ = np.clip(self.intercept_, -1e6, 1e6)\n",
    "\n",
    "                # Check for overflow during training\n",
    "                if np.isnan(self.coef_).any() or np.isinf(self.coef_).any() or np.isnan(self.intercept_).any() or np.isinf(self.intercept_).any():\n",
    "                    print(\"Numerical instability detected. Reduce learning rate or check data.\")\n",
    "                    return\n",
    "\n",
    "        print(self.intercept_, self.coef_)\n",
    "\n",
    "    def predict(self, X_test):\n",
    "        return np.dot(X_test, self.coef_.T) + self.intercept_\n",
    "\n",
    "gdr = SGDRegressor(epochs=1000, learning_rate=0.01, alpha=0.01)\n",
    "\n",
    "gdr.fit(X_train_poly, y_train)"
   ]
  },
  {
   "cell_type": "code",
   "execution_count": 5,
   "id": "bc0e1552-a17b-4ca8-b80b-e4b34a04c6ee",
   "metadata": {},
   "outputs": [],
   "source": [
    "y_pred2=gdr.predict(X_poly_test)\n",
    "y_pred1=gdr.predict(X_poly)"
   ]
  },
  {
   "cell_type": "code",
   "execution_count": 8,
   "id": "7336988d-164f-4f39-88ec-6bbecf74e21e",
   "metadata": {},
   "outputs": [
    {
     "data": {
      "text/plain": [
       "array([[-3419353.87797204],\n",
       "       [  -13215.11970667],\n",
       "       [ 9121837.48115371],\n",
       "       ...,\n",
       "       [ 1845817.91440162],\n",
       "       [  673300.27133147],\n",
       "       [ 1107250.80554083]])"
      ]
     },
     "execution_count": 8,
     "metadata": {},
     "output_type": "execute_result"
    }
   ],
   "source": [
    "y_pred1"
   ]
  },
  {
   "cell_type": "code",
   "execution_count": 9,
   "id": "a8f02d3a-4346-43ba-9793-57507feb6540",
   "metadata": {},
   "outputs": [
    {
     "data": {
      "text/plain": [
       "array([[3552903.22529772],\n",
       "       [7160239.09133921],\n",
       "       [2731153.92622126],\n",
       "       ...,\n",
       "       [3437954.13071451],\n",
       "       [  56928.35285426],\n",
       "       [ 577041.41325481]])"
      ]
     },
     "execution_count": 9,
     "metadata": {},
     "output_type": "execute_result"
    }
   ],
   "source": [
    "y_pred2"
   ]
  },
  {
   "cell_type": "code",
   "execution_count": 6,
   "id": "0f2f0778-cbf3-42f4-bf71-c5cdef8845f2",
   "metadata": {},
   "outputs": [
    {
     "data": {
      "text/plain": [
       "0.9503860368295035"
      ]
     },
     "execution_count": 6,
     "metadata": {},
     "output_type": "execute_result"
    }
   ],
   "source": [
    "def SSM(y_train):\n",
    "    return np.sum((y_train-np.mean(y_train))**2)\n",
    "def SSR(y_train,y_pred):\n",
    "    return np.sum((y_train-y_pred)**2)\n",
    "    \n",
    "SSr=SSR(y_test,y_pred2)\n",
    "SSm=SSM(y_train)\n",
    "r2_score=1-(SSr/SSm)\n",
    "r2_score"
   ]
  },
  {
   "cell_type": "code",
   "execution_count": 7,
   "id": "0cd840b9-b0e9-490c-a0f5-3d534610f87a",
   "metadata": {},
   "outputs": [
    {
     "data": {
      "text/plain": [
       "0.030623682964636467"
      ]
     },
     "execution_count": 7,
     "metadata": {},
     "output_type": "execute_result"
    }
   ],
   "source": [
    "def SSM(y_train):\n",
    "    return np.sum((y_train-np.mean(y_train))**2)\n",
    "def SSR(y_train,y_pred):\n",
    "    return np.sum((y_train-y_pred)**2)\n",
    "    \n",
    "SSr=SSR(y_train,y_pred1)\n",
    "SSm=SSM(y_train)\n",
    "r2_score=1-(SSr/SSm)\n",
    "r2_score"
   ]
  },
  {
   "cell_type": "code",
   "execution_count": null,
   "id": "32e81904-ad2d-4199-8d33-6c5bbc1a4310",
   "metadata": {},
   "outputs": [],
   "source": []
  }
 ],
 "metadata": {
  "kernelspec": {
   "display_name": "Python 3 (ipykernel)",
   "language": "python",
   "name": "python3"
  },
  "language_info": {
   "codemirror_mode": {
    "name": "ipython",
    "version": 3
   },
   "file_extension": ".py",
   "mimetype": "text/x-python",
   "name": "python",
   "nbconvert_exporter": "python",
   "pygments_lexer": "ipython3",
   "version": "3.11.6"
  }
 },
 "nbformat": 4,
 "nbformat_minor": 5
}
